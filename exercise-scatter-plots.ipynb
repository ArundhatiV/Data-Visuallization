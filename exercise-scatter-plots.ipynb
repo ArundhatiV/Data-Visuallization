{
 "cells": [
  {
   "cell_type": "markdown",
   "id": "326f9903",
   "metadata": {
    "papermill": {
     "duration": 0.011043,
     "end_time": "2022-07-29T06:34:18.785260",
     "exception": false,
     "start_time": "2022-07-29T06:34:18.774217",
     "status": "completed"
    },
    "tags": []
   },
   "source": [
    "**This notebook is an exercise in the [Data Visualization](https://www.kaggle.com/learn/data-visualization) course.  You can reference the tutorial at [this link](https://www.kaggle.com/alexisbcook/scatter-plots).**\n",
    "\n",
    "---\n"
   ]
  },
  {
   "cell_type": "markdown",
   "id": "d8972e6b",
   "metadata": {
    "papermill": {
     "duration": 0.009756,
     "end_time": "2022-07-29T06:34:18.805281",
     "exception": false,
     "start_time": "2022-07-29T06:34:18.795525",
     "status": "completed"
    },
    "tags": []
   },
   "source": [
    "In this exercise, you will use your new knowledge to propose a solution to a real-world scenario.  To succeed, you will need to import data into Python, answer questions using the data, and generate **scatter plots** to understand patterns in the data.\n",
    "\n",
    "## Scenario\n",
    "\n",
    "You work for a major candy producer, and your goal is to write a report that your company can use to guide the design of its next product.  Soon after starting your research, you stumble across this [very interesting dataset](https://fivethirtyeight.com/features/the-ultimate-halloween-candy-power-ranking/) containing results from a fun survey to crowdsource favorite candies.\n",
    "\n",
    "## Setup\n",
    "\n",
    "Run the next cell to import and configure the Python libraries that you need to complete the exercise."
   ]
  },
  {
   "cell_type": "code",
   "execution_count": 1,
   "id": "34c75b2c",
   "metadata": {
    "execution": {
     "iopub.execute_input": "2022-07-29T06:34:18.828128Z",
     "iopub.status.busy": "2022-07-29T06:34:18.827668Z",
     "iopub.status.idle": "2022-07-29T06:34:19.891134Z",
     "shell.execute_reply": "2022-07-29T06:34:19.889872Z"
    },
    "papermill": {
     "duration": 1.078585,
     "end_time": "2022-07-29T06:34:19.894008",
     "exception": false,
     "start_time": "2022-07-29T06:34:18.815423",
     "status": "completed"
    },
    "tags": []
   },
   "outputs": [
    {
     "name": "stdout",
     "output_type": "stream",
     "text": [
      "Setup Complete\n"
     ]
    }
   ],
   "source": [
    "import pandas as pd\n",
    "pd.plotting.register_matplotlib_converters()\n",
    "import matplotlib.pyplot as plt\n",
    "%matplotlib inline\n",
    "import seaborn as sns\n",
    "print(\"Setup Complete\")"
   ]
  },
  {
   "cell_type": "markdown",
   "id": "aff9c038",
   "metadata": {
    "papermill": {
     "duration": 0.009658,
     "end_time": "2022-07-29T06:34:19.913964",
     "exception": false,
     "start_time": "2022-07-29T06:34:19.904306",
     "status": "completed"
    },
    "tags": []
   },
   "source": [
    "The questions below will give you feedback on your work. Run the following cell to set up our feedback system."
   ]
  },
  {
   "cell_type": "code",
   "execution_count": 2,
   "id": "2865e51a",
   "metadata": {
    "execution": {
     "iopub.execute_input": "2022-07-29T06:34:19.936638Z",
     "iopub.status.busy": "2022-07-29T06:34:19.936229Z",
     "iopub.status.idle": "2022-07-29T06:34:19.995561Z",
     "shell.execute_reply": "2022-07-29T06:34:19.994370Z"
    },
    "papermill": {
     "duration": 0.073705,
     "end_time": "2022-07-29T06:34:19.998077",
     "exception": false,
     "start_time": "2022-07-29T06:34:19.924372",
     "status": "completed"
    },
    "tags": []
   },
   "outputs": [
    {
     "name": "stdout",
     "output_type": "stream",
     "text": [
      "Setup Complete\n"
     ]
    }
   ],
   "source": [
    "# Set up code checking\n",
    "import os\n",
    "if not os.path.exists(\"../input/candy.csv\"):\n",
    "    os.symlink(\"../input/data-for-datavis/candy.csv\", \"../input/candy.csv\") \n",
    "from learntools.core import binder\n",
    "binder.bind(globals())\n",
    "from learntools.data_viz_to_coder.ex4 import *\n",
    "print(\"Setup Complete\")"
   ]
  },
  {
   "cell_type": "markdown",
   "id": "e6e974fb",
   "metadata": {
    "papermill": {
     "duration": 0.009932,
     "end_time": "2022-07-29T06:34:20.018257",
     "exception": false,
     "start_time": "2022-07-29T06:34:20.008325",
     "status": "completed"
    },
    "tags": []
   },
   "source": [
    "## Step 1: Load the Data\n",
    "\n",
    "Read the candy data file into `candy_data`.  Use the `\"id\"` column to label the rows."
   ]
  },
  {
   "cell_type": "code",
   "execution_count": 3,
   "id": "27735234",
   "metadata": {
    "execution": {
     "iopub.execute_input": "2022-07-29T06:34:20.040089Z",
     "iopub.status.busy": "2022-07-29T06:34:20.039741Z",
     "iopub.status.idle": "2022-07-29T06:34:20.055629Z",
     "shell.execute_reply": "2022-07-29T06:34:20.054567Z"
    },
    "papermill": {
     "duration": 0.029586,
     "end_time": "2022-07-29T06:34:20.057988",
     "exception": false,
     "start_time": "2022-07-29T06:34:20.028402",
     "status": "completed"
    },
    "tags": []
   },
   "outputs": [
    {
     "data": {
      "application/javascript": [
       "parent.postMessage({\"jupyterEvent\": \"custom.exercise_interaction\", \"data\": {\"outcomeType\": 1, \"valueTowardsCompletion\": 0.3333333333333333, \"interactionType\": 1, \"questionType\": 1, \"questionId\": \"1_LoadData\", \"learnToolsVersion\": \"0.3.4\", \"failureMessage\": \"\", \"exceptionClass\": \"\", \"trace\": \"\"}}, \"*\")"
      ],
      "text/plain": [
       "<IPython.core.display.Javascript object>"
      ]
     },
     "metadata": {},
     "output_type": "display_data"
    },
    {
     "data": {
      "text/markdown": [
       "<span style=\"color:#33cc33\">Correct</span>"
      ],
      "text/plain": [
       "Correct"
      ]
     },
     "metadata": {},
     "output_type": "display_data"
    }
   ],
   "source": [
    "# Path of the file to read\n",
    "candy_filepath = \"../input/candy.csv\"\n",
    "\n",
    "# Fill in the line below to read the file into a variable candy_data\n",
    "candy_data = pd.read_csv(candy_filepath, index_col=\"id\")\n",
    "\n",
    "# Run the line below with no changes to check that you've loaded the data correctly\n",
    "step_1.check()"
   ]
  },
  {
   "cell_type": "code",
   "execution_count": 4,
   "id": "ca92ff84",
   "metadata": {
    "execution": {
     "iopub.execute_input": "2022-07-29T06:34:20.082135Z",
     "iopub.status.busy": "2022-07-29T06:34:20.081768Z",
     "iopub.status.idle": "2022-07-29T06:34:20.086021Z",
     "shell.execute_reply": "2022-07-29T06:34:20.084911Z"
    },
    "papermill": {
     "duration": 0.018695,
     "end_time": "2022-07-29T06:34:20.088295",
     "exception": false,
     "start_time": "2022-07-29T06:34:20.069600",
     "status": "completed"
    },
    "tags": []
   },
   "outputs": [],
   "source": [
    "# Lines below will give you a hint or solution code\n",
    "#step_1.hint()\n",
    "#step_1.solution()"
   ]
  },
  {
   "cell_type": "markdown",
   "id": "d3bafd46",
   "metadata": {
    "papermill": {
     "duration": 0.010118,
     "end_time": "2022-07-29T06:34:20.108938",
     "exception": false,
     "start_time": "2022-07-29T06:34:20.098820",
     "status": "completed"
    },
    "tags": []
   },
   "source": [
    "## Step 2: Review the data\n",
    "\n",
    "Use a Python command to print the first five rows of the data."
   ]
  },
  {
   "cell_type": "code",
   "execution_count": 5,
   "id": "f809fb3a",
   "metadata": {
    "execution": {
     "iopub.execute_input": "2022-07-29T06:34:20.131146Z",
     "iopub.status.busy": "2022-07-29T06:34:20.130770Z",
     "iopub.status.idle": "2022-07-29T06:34:20.146848Z",
     "shell.execute_reply": "2022-07-29T06:34:20.146055Z"
    },
    "papermill": {
     "duration": 0.029554,
     "end_time": "2022-07-29T06:34:20.148830",
     "exception": false,
     "start_time": "2022-07-29T06:34:20.119276",
     "status": "completed"
    },
    "tags": []
   },
   "outputs": [
    {
     "data": {
      "text/plain": [
       "<bound method NDFrame.head of                 competitorname chocolate fruity caramel peanutyalmondy nougat  \\\n",
       "id                                                                              \n",
       "0                    100 Grand       Yes     No     Yes             No     No   \n",
       "1                 3 Musketeers       Yes     No      No             No    Yes   \n",
       "2                    Air Heads        No    Yes      No             No     No   \n",
       "3                   Almond Joy       Yes     No      No            Yes     No   \n",
       "4                    Baby Ruth       Yes     No     Yes            Yes    Yes   \n",
       "..                         ...       ...    ...     ...            ...    ...   \n",
       "78                   Twizzlers        No    Yes      No             No     No   \n",
       "79                    Warheads        No    Yes      No             No     No   \n",
       "80        Welch's Fruit Snacks        No    Yes      No             No     No   \n",
       "81  Werther's Original Caramel        No     No     Yes             No     No   \n",
       "82                    Whoppers       Yes     No      No             No     No   \n",
       "\n",
       "   crispedricewafer hard  bar pluribus  sugarpercent  pricepercent  winpercent  \n",
       "id                                                                              \n",
       "0               Yes   No  Yes       No         0.732         0.860   66.971725  \n",
       "1                No   No  Yes       No         0.604         0.511   67.602936  \n",
       "2                No   No   No       No         0.906         0.511   52.341465  \n",
       "3                No   No  Yes       No         0.465         0.767   50.347546  \n",
       "4                No   No  Yes       No         0.604         0.767   56.914547  \n",
       "..              ...  ...  ...      ...           ...           ...         ...  \n",
       "78               No   No   No       No         0.220         0.116   45.466282  \n",
       "79               No  Yes   No       No         0.093         0.116   39.011898  \n",
       "80               No   No   No      Yes         0.313         0.313   44.375519  \n",
       "81               No  Yes   No       No         0.186         0.267   41.904308  \n",
       "82              Yes   No   No      Yes         0.872         0.848   49.524113  \n",
       "\n",
       "[83 rows x 13 columns]>"
      ]
     },
     "execution_count": 5,
     "metadata": {},
     "output_type": "execute_result"
    }
   ],
   "source": [
    "# Print the first five rows of the data\n",
    "# Your code here\n",
    "candy_data.head"
   ]
  },
  {
   "cell_type": "markdown",
   "id": "64dd679f",
   "metadata": {
    "papermill": {
     "duration": 0.010111,
     "end_time": "2022-07-29T06:34:20.169460",
     "exception": false,
     "start_time": "2022-07-29T06:34:20.159349",
     "status": "completed"
    },
    "tags": []
   },
   "source": [
    "The dataset contains 83 rows, where each corresponds to a different candy bar.  There are 13 columns:\n",
    "- `'competitorname'` contains the name of the candy bar. \n",
    "- the next **9** columns (from `'chocolate'` to `'pluribus'`) describe the candy.  For instance, rows with chocolate candies have `\"Yes\"` in the `'chocolate'` column (and candies without chocolate have `\"No\"` in the same column).\n",
    "- `'sugarpercent'` provides some indication of the amount of sugar, where higher values signify higher sugar content.\n",
    "- `'pricepercent'` shows the price per unit, relative to the other candies in the dataset.\n",
    "- `'winpercent'` is calculated from the survey results; higher values indicate that the candy was more popular with survey respondents.\n",
    "\n",
    "Use the first five rows of the data to answer the questions below."
   ]
  },
  {
   "cell_type": "code",
   "execution_count": 6,
   "id": "66de6d80",
   "metadata": {
    "execution": {
     "iopub.execute_input": "2022-07-29T06:34:20.193253Z",
     "iopub.status.busy": "2022-07-29T06:34:20.192032Z",
     "iopub.status.idle": "2022-07-29T06:34:20.201862Z",
     "shell.execute_reply": "2022-07-29T06:34:20.200809Z"
    },
    "papermill": {
     "duration": 0.023393,
     "end_time": "2022-07-29T06:34:20.203824",
     "exception": false,
     "start_time": "2022-07-29T06:34:20.180431",
     "status": "completed"
    },
    "tags": []
   },
   "outputs": [
    {
     "data": {
      "application/javascript": [
       "parent.postMessage({\"jupyterEvent\": \"custom.exercise_interaction\", \"data\": {\"outcomeType\": 1, \"valueTowardsCompletion\": 0.3333333333333333, \"interactionType\": 1, \"questionType\": 1, \"questionId\": \"2_ReviewData\", \"learnToolsVersion\": \"0.3.4\", \"failureMessage\": \"\", \"exceptionClass\": \"\", \"trace\": \"\"}}, \"*\")"
      ],
      "text/plain": [
       "<IPython.core.display.Javascript object>"
      ]
     },
     "metadata": {},
     "output_type": "display_data"
    },
    {
     "data": {
      "text/markdown": [
       "<span style=\"color:#33cc33\">Correct</span>"
      ],
      "text/plain": [
       "Correct"
      ]
     },
     "metadata": {},
     "output_type": "display_data"
    }
   ],
   "source": [
    "# Fill in the line below: Which candy was more popular with survey respondents:\n",
    "# '3 Musketeers' or 'Almond Joy'?  (Please enclose your answer in single quotes.)\n",
    "more_popular = '3 Musketeers'\n",
    "\n",
    "# Fill in the line below: Which candy has higher sugar content: 'Air Heads'\n",
    "# or 'Baby Ruth'? (Please enclose your answer in single quotes.)\n",
    "more_sugar = 'Air Heads'\n",
    "\n",
    "# Check your answers\n",
    "step_2.check()"
   ]
  },
  {
   "cell_type": "code",
   "execution_count": 7,
   "id": "f5d9b634",
   "metadata": {
    "execution": {
     "iopub.execute_input": "2022-07-29T06:34:20.228277Z",
     "iopub.status.busy": "2022-07-29T06:34:20.226962Z",
     "iopub.status.idle": "2022-07-29T06:34:20.231660Z",
     "shell.execute_reply": "2022-07-29T06:34:20.230862Z"
    },
    "papermill": {
     "duration": 0.018824,
     "end_time": "2022-07-29T06:34:20.233634",
     "exception": false,
     "start_time": "2022-07-29T06:34:20.214810",
     "status": "completed"
    },
    "tags": []
   },
   "outputs": [],
   "source": [
    "# Lines below will give you a hint or solution code\n",
    "#step_2.hint()\n",
    "#step_2.solution()"
   ]
  },
  {
   "cell_type": "markdown",
   "id": "de74e3b6",
   "metadata": {
    "papermill": {
     "duration": 0.010402,
     "end_time": "2022-07-29T06:34:20.254878",
     "exception": false,
     "start_time": "2022-07-29T06:34:20.244476",
     "status": "completed"
    },
    "tags": []
   },
   "source": [
    "## Step 3: The role of sugar\n",
    "\n",
    "Do people tend to prefer candies with higher sugar content?  \n",
    "\n",
    "#### Part A\n",
    "\n",
    "Create a scatter plot that shows the relationship between `'sugarpercent'` (on the horizontal x-axis) and `'winpercent'` (on the vertical y-axis).  _Don't add a regression line just yet -- you'll do that in the next step!_"
   ]
  },
  {
   "cell_type": "code",
   "execution_count": 8,
   "id": "5796897f",
   "metadata": {
    "execution": {
     "iopub.execute_input": "2022-07-29T06:34:20.278625Z",
     "iopub.status.busy": "2022-07-29T06:34:20.278036Z",
     "iopub.status.idle": "2022-07-29T06:34:20.505670Z",
     "shell.execute_reply": "2022-07-29T06:34:20.504619Z"
    },
    "papermill": {
     "duration": 0.242531,
     "end_time": "2022-07-29T06:34:20.508242",
     "exception": false,
     "start_time": "2022-07-29T06:34:20.265711",
     "status": "completed"
    },
    "tags": []
   },
   "outputs": [
    {
     "data": {
      "application/javascript": [
       "parent.postMessage({\"jupyterEvent\": \"custom.exercise_interaction\", \"data\": {\"outcomeType\": 1, \"valueTowardsCompletion\": 0.3333333333333333, \"interactionType\": 1, \"questionType\": 2, \"questionId\": \"3.1_PlotBlueScatter\", \"learnToolsVersion\": \"0.3.4\", \"failureMessage\": \"\", \"exceptionClass\": \"\", \"trace\": \"\"}}, \"*\")"
      ],
      "text/plain": [
       "<IPython.core.display.Javascript object>"
      ]
     },
     "metadata": {},
     "output_type": "display_data"
    },
    {
     "data": {
      "text/markdown": [
       "<span style=\"color:#33cc33\">Correct</span>"
      ],
      "text/plain": [
       "Correct"
      ]
     },
     "metadata": {},
     "output_type": "display_data"
    },
    {
     "data": {
      "image/png": "[encoded data removed]",
      "text/plain": [
       "<Figure size 432x288 with 1 Axes>"
      ]
     },
     "metadata": {
      "needs_background": "light"
     },
     "output_type": "display_data"
    }
   ],
   "source": [
    "# Scatter plot showing the relationship between 'sugarpercent' and 'winpercent'\n",
    "# Your code here\n",
    "sns.scatterplot(x=candy_data['sugarpercent'],y=candy_data['winpercent'])\n",
    "# Check your answer\n",
    "step_3.a.check()"
   ]
  },
  {
   "cell_type": "code",
   "execution_count": 9,
   "id": "d647a798",
   "metadata": {
    "execution": {
     "iopub.execute_input": "2022-07-29T06:34:20.532905Z",
     "iopub.status.busy": "2022-07-29T06:34:20.532524Z",
     "iopub.status.idle": "2022-07-29T06:34:20.536616Z",
     "shell.execute_reply": "2022-07-29T06:34:20.535858Z"
    },
    "papermill": {
     "duration": 0.018973,
     "end_time": "2022-07-29T06:34:20.538743",
     "exception": false,
     "start_time": "2022-07-29T06:34:20.519770",
     "status": "completed"
    },
    "tags": []
   },
   "outputs": [],
   "source": [
    "# Lines below will give you a hint or solution code\n",
    "#step_3.a.hint()\n",
    "#step_3.a.solution_plot()"
   ]
  },
  {
   "cell_type": "markdown",
   "id": "2abc829f",
   "metadata": {
    "papermill": {
     "duration": 0.010817,
     "end_time": "2022-07-29T06:34:20.561229",
     "exception": false,
     "start_time": "2022-07-29T06:34:20.550412",
     "status": "completed"
    },
    "tags": []
   },
   "source": [
    "#### Part B\n",
    "\n",
    "Does the scatter plot show a **strong** correlation between the two variables?  If so, are candies with more sugar relatively more or less popular with the survey respondents?"
   ]
  },
  {
   "cell_type": "code",
   "execution_count": 10,
   "id": "a9bfbe67",
   "metadata": {
    "execution": {
     "iopub.execute_input": "2022-07-29T06:34:20.585710Z",
     "iopub.status.busy": "2022-07-29T06:34:20.585329Z",
     "iopub.status.idle": "2022-07-29T06:34:20.589715Z",
     "shell.execute_reply": "2022-07-29T06:34:20.588827Z"
    },
    "papermill": {
     "duration": 0.019087,
     "end_time": "2022-07-29T06:34:20.591794",
     "exception": false,
     "start_time": "2022-07-29T06:34:20.572707",
     "status": "completed"
    },
    "tags": []
   },
   "outputs": [],
   "source": [
    "#step_3.b.hint()"
   ]
  },
  {
   "cell_type": "code",
   "execution_count": 11,
   "id": "2676ceaa",
   "metadata": {
    "execution": {
     "iopub.execute_input": "2022-07-29T06:34:20.617401Z",
     "iopub.status.busy": "2022-07-29T06:34:20.616678Z",
     "iopub.status.idle": "2022-07-29T06:34:20.623825Z",
     "shell.execute_reply": "2022-07-29T06:34:20.623055Z"
    },
    "papermill": {
     "duration": 0.022782,
     "end_time": "2022-07-29T06:34:20.625839",
     "exception": false,
     "start_time": "2022-07-29T06:34:20.603057",
     "status": "completed"
    },
    "tags": []
   },
   "outputs": [
    {
     "data": {
      "application/javascript": [
       "parent.postMessage({\"jupyterEvent\": \"custom.exercise_interaction\", \"data\": {\"interactionType\": 3, \"questionType\": 4, \"questionId\": \"3.2_ThinkBlueScatter\", \"learnToolsVersion\": \"0.3.4\", \"valueTowardsCompletion\": 0.0, \"failureMessage\": \"\", \"exceptionClass\": \"\", \"trace\": \"\", \"outcomeType\": 4}}, \"*\")"
      ],
      "text/plain": [
       "<IPython.core.display.Javascript object>"
      ]
     },
     "metadata": {},
     "output_type": "display_data"
    },
    {
     "data": {
      "text/markdown": [
       "<span style=\"color:#33cc99\">Solution:</span> The scatter plot does not show a strong correlation between the two variables. Since there is no clear relationship between the two variables, this tells us that sugar content does not play a strong role in candy popularity."
      ],
      "text/plain": [
       "Solution: The scatter plot does not show a strong correlation between the two variables. Since there is no clear relationship between the two variables, this tells us that sugar content does not play a strong role in candy popularity."
      ]
     },
     "metadata": {},
     "output_type": "display_data"
    }
   ],
   "source": [
    "# Check your answer (Run this code cell to receive credit!)\n",
    "step_3.b.solution()"
   ]
  },
  {
   "cell_type": "markdown",
   "id": "4fce55fa",
   "metadata": {
    "papermill": {
     "duration": 0.011281,
     "end_time": "2022-07-29T06:34:20.648803",
     "exception": false,
     "start_time": "2022-07-29T06:34:20.637522",
     "status": "completed"
    },
    "tags": []
   },
   "source": [
    "## Step 4: Take a closer look\n",
    "\n",
    "#### Part A\n",
    "\n",
    "Create the same scatter plot you created in **Step 3**, but now with a regression line!"
   ]
  },
  {
   "cell_type": "code",
   "execution_count": 12,
   "id": "b445c055",
   "metadata": {
    "execution": {
     "iopub.execute_input": "2022-07-29T06:34:20.675069Z",
     "iopub.status.busy": "2022-07-29T06:34:20.674385Z",
     "iopub.status.idle": "2022-07-29T06:34:20.969849Z",
     "shell.execute_reply": "2022-07-29T06:34:20.968725Z"
    },
    "papermill": {
     "duration": 0.311607,
     "end_time": "2022-07-29T06:34:20.972647",
     "exception": false,
     "start_time": "2022-07-29T06:34:20.661040",
     "status": "completed"
    },
    "tags": []
   },
   "outputs": [
    {
     "data": {
      "application/javascript": [
       "parent.postMessage({\"jupyterEvent\": \"custom.exercise_interaction\", \"data\": {\"outcomeType\": 1, \"valueTowardsCompletion\": 0.3333333333333333, \"interactionType\": 1, \"questionType\": 2, \"questionId\": \"4.1_PlotBlueReg\", \"learnToolsVersion\": \"0.3.4\", \"failureMessage\": \"\", \"exceptionClass\": \"\", \"trace\": \"\"}}, \"*\")"
      ],
      "text/plain": [
       "<IPython.core.display.Javascript object>"
      ]
     },
     "metadata": {},
     "output_type": "display_data"
    },
    {
     "data": {
      "text/markdown": [
       "<span style=\"color:#33cc33\">Correct</span>"
      ],
      "text/plain": [
       "Correct"
      ]
     },
     "metadata": {},
     "output_type": "display_data"
    },
    {
     "data": {
      "image/png": "[encoded data removed]",
      "text/plain": [
       "<Figure size 432x288 with 1 Axes>"
      ]
     },
     "metadata": {
      "needs_background": "light"
     },
     "output_type": "display_data"
    }
   ],
   "source": [
    "# Scatter plot w/ regression line showing the relationship between 'sugarpercent' and 'winpercent'\n",
    "# Your code here\n",
    "sns.regplot(x=candy_data['sugarpercent'],y=candy_data['winpercent'])\n",
    "\n",
    "\n",
    "# Check your answer\n",
    "step_4.a.check()"
   ]
  },
  {
   "cell_type": "code",
   "execution_count": 13,
   "id": "17e9f5dc",
   "metadata": {
    "execution": {
     "iopub.execute_input": "2022-07-29T06:34:20.999945Z",
     "iopub.status.busy": "2022-07-29T06:34:20.999170Z",
     "iopub.status.idle": "2022-07-29T06:34:21.002840Z",
     "shell.execute_reply": "2022-07-29T06:34:21.002125Z"
    },
    "papermill": {
     "duration": 0.019703,
     "end_time": "2022-07-29T06:34:21.004863",
     "exception": false,
     "start_time": "2022-07-29T06:34:20.985160",
     "status": "completed"
    },
    "tags": []
   },
   "outputs": [],
   "source": [
    "# Lines below will give you a hint or solution code\n",
    "#step_4.a.hint()\n",
    "#step_4.a.solution_plot()"
   ]
  },
  {
   "cell_type": "markdown",
   "id": "630dde27",
   "metadata": {
    "papermill": {
     "duration": 0.012192,
     "end_time": "2022-07-29T06:34:21.029378",
     "exception": false,
     "start_time": "2022-07-29T06:34:21.017186",
     "status": "completed"
    },
    "tags": []
   },
   "source": [
    "#### Part B\n",
    "\n",
    "According to the plot above, is there a **slight** correlation between `'winpercent'` and `'sugarpercent'`?  What does this tell you about the candy that people tend to prefer?"
   ]
  },
  {
   "cell_type": "code",
   "execution_count": 14,
   "id": "da23069c",
   "metadata": {
    "execution": {
     "iopub.execute_input": "2022-07-29T06:34:21.058293Z",
     "iopub.status.busy": "2022-07-29T06:34:21.056193Z",
     "iopub.status.idle": "2022-07-29T06:34:21.061934Z",
     "shell.execute_reply": "2022-07-29T06:34:21.061188Z"
    },
    "papermill": {
     "duration": 0.021927,
     "end_time": "2022-07-29T06:34:21.064103",
     "exception": false,
     "start_time": "2022-07-29T06:34:21.042176",
     "status": "completed"
    },
    "tags": []
   },
   "outputs": [],
   "source": [
    "#step_4.b.hint()"
   ]
  },
  {
   "cell_type": "code",
   "execution_count": 15,
   "id": "cce62200",
   "metadata": {
    "execution": {
     "iopub.execute_input": "2022-07-29T06:34:21.090784Z",
     "iopub.status.busy": "2022-07-29T06:34:21.089780Z",
     "iopub.status.idle": "2022-07-29T06:34:21.098786Z",
     "shell.execute_reply": "2022-07-29T06:34:21.097818Z"
    },
    "papermill": {
     "duration": 0.024776,
     "end_time": "2022-07-29T06:34:21.100982",
     "exception": false,
     "start_time": "2022-07-29T06:34:21.076206",
     "status": "completed"
    },
    "tags": []
   },
   "outputs": [
    {
     "data": {
      "application/javascript": [
       "parent.postMessage({\"jupyterEvent\": \"custom.exercise_interaction\", \"data\": {\"interactionType\": 3, \"questionType\": 4, \"questionId\": \"4.2_ThinkBlueReg\", \"learnToolsVersion\": \"0.3.4\", \"valueTowardsCompletion\": 0.0, \"failureMessage\": \"\", \"exceptionClass\": \"\", \"trace\": \"\", \"outcomeType\": 4}}, \"*\")"
      ],
      "text/plain": [
       "<IPython.core.display.Javascript object>"
      ]
     },
     "metadata": {},
     "output_type": "display_data"
    },
    {
     "data": {
      "text/markdown": [
       "<span style=\"color:#33cc99\">Solution:</span> Since the regression line has a slightly positive slope, this tells us that there is a slightly positive correlation between `'winpercent'` and `'sugarpercent'`. Thus, people have a slight preference for candies containing relatively more sugar."
      ],
      "text/plain": [
       "Solution: Since the regression line has a slightly positive slope, this tells us that there is a slightly positive correlation between `'winpercent'` and `'sugarpercent'`. Thus, people have a slight preference for candies containing relatively more sugar."
      ]
     },
     "metadata": {},
     "output_type": "display_data"
    }
   ],
   "source": [
    "# Check your answer (Run this code cell to receive credit!)\n",
    "step_4.b.solution()"
   ]
  },
  {
   "cell_type": "markdown",
   "id": "73a8e0d8",
   "metadata": {
    "papermill": {
     "duration": 0.012563,
     "end_time": "2022-07-29T06:34:21.126124",
     "exception": false,
     "start_time": "2022-07-29T06:34:21.113561",
     "status": "completed"
    },
    "tags": []
   },
   "source": [
    "## Step 5: Chocolate!\n",
    "\n",
    "In the code cell below, create a scatter plot to show the relationship between `'pricepercent'` (on the horizontal x-axis) and `'winpercent'` (on the vertical y-axis). Use the `'chocolate'` column to color-code the points.  _Don't add any regression lines just yet -- you'll do that in the next step!_"
   ]
  },
  {
   "cell_type": "code",
   "execution_count": 16,
   "id": "74d53243",
   "metadata": {
    "execution": {
     "iopub.execute_input": "2022-07-29T06:34:21.153747Z",
     "iopub.status.busy": "2022-07-29T06:34:21.152825Z",
     "iopub.status.idle": "2022-07-29T06:34:21.403431Z",
     "shell.execute_reply": "2022-07-29T06:34:21.402669Z"
    },
    "papermill": {
     "duration": 0.266387,
     "end_time": "2022-07-29T06:34:21.405428",
     "exception": false,
     "start_time": "2022-07-29T06:34:21.139041",
     "status": "completed"
    },
    "tags": []
   },
   "outputs": [
    {
     "data": {
      "application/javascript": [
       "parent.postMessage({\"jupyterEvent\": \"custom.exercise_interaction\", \"data\": {\"outcomeType\": 1, \"valueTowardsCompletion\": 0.3333333333333333, \"interactionType\": 1, \"questionType\": 2, \"questionId\": \"5_ColorScatter\", \"learnToolsVersion\": \"0.3.4\", \"failureMessage\": \"\", \"exceptionClass\": \"\", \"trace\": \"\"}}, \"*\")"
      ],
      "text/plain": [
       "<IPython.core.display.Javascript object>"
      ]
     },
     "metadata": {},
     "output_type": "display_data"
    },
    {
     "data": {
      "text/markdown": [
       "<span style=\"color:#33cc33\">Correct</span>"
      ],
      "text/plain": [
       "Correct"
      ]
     },
     "metadata": {},
     "output_type": "display_data"
    },
    {
     "data": {
      "image/png": "[encoded data removed]",
      "text/plain": [
       "<Figure size 432x288 with 1 Axes>"
      ]
     },
     "metadata": {
      "needs_background": "light"
     },
     "output_type": "display_data"
    }
   ],
   "source": [
    "# Scatter plot showing the relationship between 'pricepercent', 'winpercent', and 'chocolate'\n",
    "# Your code here\n",
    "sns.scatterplot(x=candy_data['pricepercent'],y=candy_data['winpercent'],hue=candy_data['chocolate'])\n",
    "\n",
    "# Check your answer\n",
    "step_5.check()"
   ]
  },
  {
   "cell_type": "code",
   "execution_count": 17,
   "id": "ac54af10",
   "metadata": {
    "execution": {
     "iopub.execute_input": "2022-07-29T06:34:21.434220Z",
     "iopub.status.busy": "2022-07-29T06:34:21.433654Z",
     "iopub.status.idle": "2022-07-29T06:34:21.437825Z",
     "shell.execute_reply": "2022-07-29T06:34:21.436746Z"
    },
    "papermill": {
     "duration": 0.021085,
     "end_time": "2022-07-29T06:34:21.439942",
     "exception": false,
     "start_time": "2022-07-29T06:34:21.418857",
     "status": "completed"
    },
    "tags": []
   },
   "outputs": [],
   "source": [
    "# Lines below will give you a hint or solution code\n",
    "#step_5.hint()\n",
    "#step_5.solution_plot()"
   ]
  },
  {
   "cell_type": "markdown",
   "id": "640bd03d",
   "metadata": {
    "papermill": {
     "duration": 0.012907,
     "end_time": "2022-07-29T06:34:21.466578",
     "exception": false,
     "start_time": "2022-07-29T06:34:21.453671",
     "status": "completed"
    },
    "tags": []
   },
   "source": [
    "Can you see any interesting patterns in the scatter plot?  We'll investigate this plot further  by adding regression lines in the next step!\n",
    "\n",
    "## Step 6: Investigate chocolate\n",
    "\n",
    "#### Part A\n",
    "\n",
    "Create the same scatter plot you created in **Step 5**, but now with two regression lines, corresponding to (1) chocolate candies and (2) candies without chocolate."
   ]
  },
  {
   "cell_type": "code",
   "execution_count": 18,
   "id": "6127c7f3",
   "metadata": {
    "execution": {
     "iopub.execute_input": "2022-07-29T06:34:21.495008Z",
     "iopub.status.busy": "2022-07-29T06:34:21.494350Z",
     "iopub.status.idle": "2022-07-29T06:34:22.110163Z",
     "shell.execute_reply": "2022-07-29T06:34:22.108882Z"
    },
    "papermill": {
     "duration": 0.632792,
     "end_time": "2022-07-29T06:34:22.112561",
     "exception": false,
     "start_time": "2022-07-29T06:34:21.479769",
     "status": "completed"
    },
    "tags": []
   },
   "outputs": [
    {
     "data": {
      "application/javascript": [
       "parent.postMessage({\"jupyterEvent\": \"custom.exercise_interaction\", \"data\": {\"outcomeType\": 1, \"valueTowardsCompletion\": 0.3333333333333333, \"interactionType\": 1, \"questionType\": 2, \"questionId\": \"6.1_PlotColorReg\", \"learnToolsVersion\": \"0.3.4\", \"failureMessage\": \"\", \"exceptionClass\": \"\", \"trace\": \"\"}}, \"*\")"
      ],
      "text/plain": [
       "<IPython.core.display.Javascript object>"
      ]
     },
     "metadata": {},
     "output_type": "display_data"
    },
    {
     "data": {
      "text/markdown": [
       "<span style=\"color:#33cc33\">Correct</span>"
      ],
      "text/plain": [
       "Correct"
      ]
     },
     "metadata": {},
     "output_type": "display_data"
    },
    {
     "data": {
      "image/png": "[encoded data removed]",
      "text/plain": [
       "<Figure size 416.375x360 with 1 Axes>"
      ]
     },
     "metadata": {
      "needs_background": "light"
     },
     "output_type": "display_data"
    }
   ],
   "source": [
    "# Color-coded scatter plot w/ regression lines\n",
    "# Your code here\n",
    "sns.lmplot(x=\"pricepercent\", y=\"winpercent\", hue=\"chocolate\", data=candy_data)\n",
    "\n",
    "# Check your answer\n",
    "step_6.a.check()"
   ]
  },
  {
   "cell_type": "code",
   "execution_count": 19,
   "id": "ceb65143",
   "metadata": {
    "execution": {
     "iopub.execute_input": "2022-07-29T06:34:22.143160Z",
     "iopub.status.busy": "2022-07-29T06:34:22.142772Z",
     "iopub.status.idle": "2022-07-29T06:34:22.741244Z",
     "shell.execute_reply": "2022-07-29T06:34:22.740103Z"
    },
    "papermill": {
     "duration": 0.616607,
     "end_time": "2022-07-29T06:34:22.743629",
     "exception": false,
     "start_time": "2022-07-29T06:34:22.127022",
     "status": "completed"
    },
    "tags": []
   },
   "outputs": [
    {
     "data": {
      "application/javascript": [
       "parent.postMessage({\"jupyterEvent\": \"custom.exercise_interaction\", \"data\": {\"interactionType\": 3, \"questionType\": 2, \"questionId\": \"6.1_PlotColorReg\", \"learnToolsVersion\": \"0.3.4\", \"valueTowardsCompletion\": 0.0, \"failureMessage\": \"\", \"exceptionClass\": \"\", \"trace\": \"\", \"outcomeType\": 4}}, \"*\")"
      ],
      "text/plain": [
       "<IPython.core.display.Javascript object>"
      ]
     },
     "metadata": {},
     "output_type": "display_data"
    },
    {
     "data": {
      "text/markdown": [
       "<span style=\"color:#33cc99\">Solution:</span> \n",
       "```python\n",
       "# Color-coded scatter plot w/ regression lines\n",
       "sns.lmplot(x=\"pricepercent\", y=\"winpercent\", hue=\"chocolate\", data=candy_data)\n",
       "\n",
       "```"
      ],
      "text/plain": [
       "Solution: \n",
       "```python\n",
       "# Color-coded scatter plot w/ regression lines\n",
       "sns.lmplot(x=\"pricepercent\", y=\"winpercent\", hue=\"chocolate\", data=candy_data)\n",
       "\n",
       "```"
      ]
     },
     "metadata": {},
     "output_type": "display_data"
    },
    {
     "data": {
      "image/png": "[encoded data removed]",
      "text/plain": [
       "<Figure size 416.375x360 with 1 Axes>"
      ]
     },
     "metadata": {
      "needs_background": "light"
     },
     "output_type": "display_data"
    }
   ],
   "source": [
    "# Lines below will give you a hint or solution code\n",
    "#step_6.a.hint()\n",
    "step_6.a.solution_plot()"
   ]
  },
  {
   "cell_type": "markdown",
   "id": "b7f0605a",
   "metadata": {
    "papermill": {
     "duration": 0.014071,
     "end_time": "2022-07-29T06:34:22.771993",
     "exception": false,
     "start_time": "2022-07-29T06:34:22.757922",
     "status": "completed"
    },
    "tags": []
   },
   "source": [
    "#### Part B\n",
    "\n",
    "Using the regression lines, what conclusions can you draw about the effects of chocolate and price on candy popularity?"
   ]
  },
  {
   "cell_type": "code",
   "execution_count": 20,
   "id": "eca232bb",
   "metadata": {
    "execution": {
     "iopub.execute_input": "2022-07-29T06:34:22.804393Z",
     "iopub.status.busy": "2022-07-29T06:34:22.803591Z",
     "iopub.status.idle": "2022-07-29T06:34:22.808914Z",
     "shell.execute_reply": "2022-07-29T06:34:22.807802Z"
    },
    "papermill": {
     "duration": 0.024324,
     "end_time": "2022-07-29T06:34:22.811180",
     "exception": false,
     "start_time": "2022-07-29T06:34:22.786856",
     "status": "completed"
    },
    "tags": []
   },
   "outputs": [],
   "source": [
    "#step_6.b.hint()"
   ]
  },
  {
   "cell_type": "code",
   "execution_count": 21,
   "id": "73a0d2f0",
   "metadata": {
    "execution": {
     "iopub.execute_input": "2022-07-29T06:34:22.843214Z",
     "iopub.status.busy": "2022-07-29T06:34:22.842531Z",
     "iopub.status.idle": "2022-07-29T06:34:22.849529Z",
     "shell.execute_reply": "2022-07-29T06:34:22.848767Z"
    },
    "papermill": {
     "duration": 0.025532,
     "end_time": "2022-07-29T06:34:22.851463",
     "exception": false,
     "start_time": "2022-07-29T06:34:22.825931",
     "status": "completed"
    },
    "tags": []
   },
   "outputs": [
    {
     "data": {
      "application/javascript": [
       "parent.postMessage({\"jupyterEvent\": \"custom.exercise_interaction\", \"data\": {\"interactionType\": 3, \"questionType\": 4, \"questionId\": \"6.2_ThinkColorReg\", \"learnToolsVersion\": \"0.3.4\", \"valueTowardsCompletion\": 0.0, \"failureMessage\": \"\", \"exceptionClass\": \"\", \"trace\": \"\", \"outcomeType\": 4}}, \"*\")"
      ],
      "text/plain": [
       "<IPython.core.display.Javascript object>"
      ]
     },
     "metadata": {},
     "output_type": "display_data"
    },
    {
     "data": {
      "text/markdown": [
       "<span style=\"color:#33cc99\">Solution:</span> We'll begin with the regression line for chocolate candies. Since this line has a slightly positive slope, we can say that more expensive chocolate candies tend to be more popular (than relatively cheaper chocolate candies).  Likewise, since the regression line for candies without chocolate has a negative slope, we can say that if candies don't contain chocolate, they tend to be more popular when they are cheaper.  One important note, however, is that the dataset is quite small -- so we shouldn't invest too much trust in these patterns!  To inspire more confidence in the results, we should add more candies to the dataset."
      ],
      "text/plain": [
       "Solution: We'll begin with the regression line for chocolate candies. Since this line has a slightly positive slope, we can say that more expensive chocolate candies tend to be more popular (than relatively cheaper chocolate candies).  Likewise, since the regression line for candies without chocolate has a negative slope, we can say that if candies don't contain chocolate, they tend to be more popular when they are cheaper.  One important note, however, is that the dataset is quite small -- so we shouldn't invest too much trust in these patterns!  To inspire more confidence in the results, we should add more candies to the dataset."
      ]
     },
     "metadata": {},
     "output_type": "display_data"
    }
   ],
   "source": [
    "# Check your answer (Run this code cell to receive credit!)\n",
    "step_6.b.solution()"
   ]
  },
  {
   "cell_type": "markdown",
   "id": "c74fdf3a",
   "metadata": {
    "papermill": {
     "duration": 0.014362,
     "end_time": "2022-07-29T06:34:22.880567",
     "exception": false,
     "start_time": "2022-07-29T06:34:22.866205",
     "status": "completed"
    },
    "tags": []
   },
   "source": [
    "## Step 7: Everybody loves chocolate.\n",
    "\n",
    "#### Part A\n",
    "\n",
    "Create a categorical scatter plot to highlight the relationship between `'chocolate'` and `'winpercent'`.  Put `'chocolate'` on the (horizontal) x-axis, and `'winpercent'` on the (vertical) y-axis."
   ]
  },
  {
   "cell_type": "code",
   "execution_count": 22,
   "id": "0ca44b8f",
   "metadata": {
    "execution": {
     "iopub.execute_input": "2022-07-29T06:34:22.911740Z",
     "iopub.status.busy": "2022-07-29T06:34:22.911326Z",
     "iopub.status.idle": "2022-07-29T06:34:23.049293Z",
     "shell.execute_reply": "2022-07-29T06:34:23.048122Z"
    },
    "papermill": {
     "duration": 0.156714,
     "end_time": "2022-07-29T06:34:23.051923",
     "exception": false,
     "start_time": "2022-07-29T06:34:22.895209",
     "status": "completed"
    },
    "tags": []
   },
   "outputs": [
    {
     "data": {
      "application/javascript": [
       "parent.postMessage({\"jupyterEvent\": \"custom.exercise_interaction\", \"data\": {\"outcomeType\": 1, \"valueTowardsCompletion\": 0.3333333333333333, \"interactionType\": 1, \"questionType\": 2, \"questionId\": \"7.1_PlotSwarm\", \"learnToolsVersion\": \"0.3.4\", \"failureMessage\": \"\", \"exceptionClass\": \"\", \"trace\": \"\"}}, \"*\")"
      ],
      "text/plain": [
       "<IPython.core.display.Javascript object>"
      ]
     },
     "metadata": {},
     "output_type": "display_data"
    },
    {
     "data": {
      "text/markdown": [
       "<span style=\"color:#33cc33\">Correct</span>"
      ],
      "text/plain": [
       "Correct"
      ]
     },
     "metadata": {},
     "output_type": "display_data"
    },
    {
     "data": {
      "image/png": "[encoded data removed]",
      "text/plain": [
       "<Figure size 432x288 with 1 Axes>"
      ]
     },
     "metadata": {
      "needs_background": "light"
     },
     "output_type": "display_data"
    }
   ],
   "source": [
    "# Scatter plot showing the relationship between 'chocolate' and 'winpercent'\n",
    "\n",
    "sns.swarmplot(x=candy_data['chocolate'],y=candy_data['winpercent'])\n",
    "\n",
    "\n",
    "# Your code here\n",
    "\n",
    "# Check your answer\n",
    "step_7.a.check()"
   ]
  },
  {
   "cell_type": "code",
   "execution_count": 23,
   "id": "fe38a85f",
   "metadata": {
    "execution": {
     "iopub.execute_input": "2022-07-29T06:34:23.086472Z",
     "iopub.status.busy": "2022-07-29T06:34:23.085708Z",
     "iopub.status.idle": "2022-07-29T06:34:23.090477Z",
     "shell.execute_reply": "2022-07-29T06:34:23.089683Z"
    },
    "papermill": {
     "duration": 0.024736,
     "end_time": "2022-07-29T06:34:23.092756",
     "exception": false,
     "start_time": "2022-07-29T06:34:23.068020",
     "status": "completed"
    },
    "tags": []
   },
   "outputs": [],
   "source": [
    "# Lines below will give you a hint or solution code\n",
    "#step_7.a.hint()\n",
    "#step_7.a.solution_plot()"
   ]
  },
  {
   "cell_type": "markdown",
   "id": "94aa9dfa",
   "metadata": {
    "papermill": {
     "duration": 0.015295,
     "end_time": "2022-07-29T06:34:23.123569",
     "exception": false,
     "start_time": "2022-07-29T06:34:23.108274",
     "status": "completed"
    },
    "tags": []
   },
   "source": [
    "#### Part B\n",
    "\n",
    "You decide to dedicate a section of your report to the fact that chocolate candies tend to be more popular than candies without chocolate.  Which plot is more appropriate to tell this story: the plot from **Step 6**, or the plot from **Step 7**?"
   ]
  },
  {
   "cell_type": "code",
   "execution_count": 24,
   "id": "b5baaea0",
   "metadata": {
    "execution": {
     "iopub.execute_input": "2022-07-29T06:34:23.157026Z",
     "iopub.status.busy": "2022-07-29T06:34:23.156229Z",
     "iopub.status.idle": "2022-07-29T06:34:23.161096Z",
     "shell.execute_reply": "2022-07-29T06:34:23.160091Z"
    },
    "papermill": {
     "duration": 0.024296,
     "end_time": "2022-07-29T06:34:23.163400",
     "exception": false,
     "start_time": "2022-07-29T06:34:23.139104",
     "status": "completed"
    },
    "tags": []
   },
   "outputs": [],
   "source": [
    "#step_7.b.hint()"
   ]
  },
  {
   "cell_type": "code",
   "execution_count": 25,
   "id": "05851d64",
   "metadata": {
    "execution": {
     "iopub.execute_input": "2022-07-29T06:34:23.197359Z",
     "iopub.status.busy": "2022-07-29T06:34:23.196974Z",
     "iopub.status.idle": "2022-07-29T06:34:23.206090Z",
     "shell.execute_reply": "2022-07-29T06:34:23.204885Z"
    },
    "papermill": {
     "duration": 0.029061,
     "end_time": "2022-07-29T06:34:23.208180",
     "exception": false,
     "start_time": "2022-07-29T06:34:23.179119",
     "status": "completed"
    },
    "tags": []
   },
   "outputs": [
    {
     "data": {
      "application/javascript": [
       "parent.postMessage({\"jupyterEvent\": \"custom.exercise_interaction\", \"data\": {\"interactionType\": 3, \"questionType\": 4, \"questionId\": \"7.2_ThinkSwarm\", \"learnToolsVersion\": \"0.3.4\", \"valueTowardsCompletion\": 0.0, \"failureMessage\": \"\", \"exceptionClass\": \"\", \"trace\": \"\", \"outcomeType\": 4}}, \"*\")"
      ],
      "text/plain": [
       "<IPython.core.display.Javascript object>"
      ]
     },
     "metadata": {},
     "output_type": "display_data"
    },
    {
     "data": {
      "text/markdown": [
       "<span style=\"color:#33cc99\">Solution:</span> In this case, the categorical scatter plot from **Step 7** is the more appropriate plot. While both plots tell the desired story, the plot from **Step 6** conveys far more information that could distract from the main point."
      ],
      "text/plain": [
       "Solution: In this case, the categorical scatter plot from **Step 7** is the more appropriate plot. While both plots tell the desired story, the plot from **Step 6** conveys far more information that could distract from the main point."
      ]
     },
     "metadata": {},
     "output_type": "display_data"
    }
   ],
   "source": [
    "# Check your answer (Run this code cell to receive credit!)\n",
    "step_7.b.solution()"
   ]
  },
  {
   "cell_type": "markdown",
   "id": "614a0557",
   "metadata": {
    "papermill": {
     "duration": 0.016133,
     "end_time": "2022-07-29T06:34:23.240267",
     "exception": false,
     "start_time": "2022-07-29T06:34:23.224134",
     "status": "completed"
    },
    "tags": []
   },
   "source": [
    "## Keep going\n",
    "\n",
    "Explore **[histograms and density plots](https://www.kaggle.com/alexisbcook/distributions)**."
   ]
  },
  {
   "cell_type": "markdown",
   "id": "0d29f143",
   "metadata": {
    "papermill": {
     "duration": 0.015481,
     "end_time": "2022-07-29T06:34:23.271635",
     "exception": false,
     "start_time": "2022-07-29T06:34:23.256154",
     "status": "completed"
    },
    "tags": []
   },
   "source": [
    "---\n",
    "\n",
    "\n",
    "\n",
    "\n",
    "*Have questions or comments? Visit the [course discussion forum](https://www.kaggle.com/learn/data-visualization/discussion) to chat with other learners.*"
   ]
  }
 ],
 "metadata": {
  "kernelspec": {
   "display_name": "Python 3",
   "language": "python",
   "name": "python3"
  },
  "language_info": {
   "codemirror_mode": {
    "name": "ipython",
    "version": 3
   },
   "file_extension": ".py",
   "mimetype": "text/x-python",
   "name": "python",
   "nbconvert_exporter": "python",
   "pygments_lexer": "ipython3",
   "version": "3.7.12"
  },
  "papermill": {
   "default_parameters": {},
   "duration": 14.829954,
   "end_time": "2022-07-29T06:34:24.008823",
   "environment_variables": {},
   "exception": null,
   "input_path": "__notebook__.ipynb",
   "output_path": "__notebook__.ipynb",
   "parameters": {},
   "start_time": "2022-07-29T06:34:09.178869",
   "version": "2.3.4"
  }
 },
 "nbformat": 4,
 "nbformat_minor": 5
}
